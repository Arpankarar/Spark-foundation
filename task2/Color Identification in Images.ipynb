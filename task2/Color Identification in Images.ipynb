{
 "cells": [
  {
   "cell_type": "markdown",
   "id": "81329b0b",
   "metadata": {},
   "source": [
    "## ARPAN KARAR"
   ]
  },
  {
   "cell_type": "markdown",
   "id": "bca51495",
   "metadata": {},
   "source": [
    "## Colour Identification in Images"
   ]
  },
  {
   "cell_type": "markdown",
   "id": "6674eb14",
   "metadata": {},
   "source": [
    "#### Importing the necessary libraries"
   ]
  },
  {
   "cell_type": "code",
   "execution_count": 1,
   "id": "c7473158",
   "metadata": {},
   "outputs": [],
   "source": [
    "import cv2\n",
    "import pandas as pd"
   ]
  },
  {
   "cell_type": "markdown",
   "id": "c94298a0",
   "metadata": {},
   "source": [
    "#### Taking the images"
   ]
  },
  {
   "cell_type": "code",
   "execution_count": 2,
   "id": "13df1583",
   "metadata": {},
   "outputs": [],
   "source": [
    "path=r'D:\\Projects\\GRIP-21-Tasks\\Task 2\\image.jpg'\n",
    "img=cv2.imread(path)"
   ]
  },
  {
   "cell_type": "markdown",
   "id": "909db2e3",
   "metadata": {},
   "source": [
    "#### Declaration of global variables"
   ]
  },
  {
   "cell_type": "code",
   "execution_count": 3,
   "id": "2a7f3c42",
   "metadata": {},
   "outputs": [],
   "source": [
    "clicked = False\n",
    "r=g=b=x_pos=y_pos=0"
   ]
  },
  {
   "cell_type": "markdown",
   "id": "698a7ef0",
   "metadata": {},
   "source": [
    "####  Reading csv file with pandas to give names to each column"
   ]
  },
  {
   "cell_type": "code",
   "execution_count": 4,
   "id": "f8bf6196",
   "metadata": {},
   "outputs": [],
   "source": [
    "index=[\"color\", \"color_name\", \"hex\", \"R\", \"G\", \"B\"]\n",
    "csv=pd.read_csv(r'./colors.csv', names=index, header=None)"
   ]
  },
  {
   "cell_type": "markdown",
   "id": "43256f18",
   "metadata": {},
   "source": [
    "#### function to calculate minimum distance from all colors and get the most matching color"
   ]
  },
  {
   "cell_type": "code",
   "execution_count": 5,
   "id": "de5dec68",
   "metadata": {},
   "outputs": [],
   "source": [
    "def get_color_name(R, G, B):\n",
    "    min = 10000\n",
    "    for i in range(len(csv)):\n",
    "        d = abs(R - int(csv.loc[i, \"R\"])) + abs(G - int(csv.loc[i, \"G\"])) + abs(B - int(csv.loc[i, \"B\"]))\n",
    "        if d <= min:\n",
    "            min = d\n",
    "            cname = csv.loc[i, \"color_name\"]\n",
    "    return cname"
   ]
  },
  {
   "cell_type": "markdown",
   "id": "c8aebe64",
   "metadata": {},
   "source": [
    "#### function to get x,y coordinates of mouse double click"
   ]
  },
  {
   "cell_type": "code",
   "execution_count": 6,
   "id": "f640780d",
   "metadata": {},
   "outputs": [],
   "source": [
    "def draw_function(event, x, y, flags, param):\n",
    "    if event == cv2.EVENT_LBUTTONDBLCLK:\n",
    "        global b, g, r, x_pos, y_pos, clicked\n",
    "        clicked = True\n",
    "        x_pos = x\n",
    "        y_pos = y\n",
    "        b, g, r = img[y, x]\n",
    "        b = int(b)\n",
    "        g = int(g)\n",
    "        r = int(r)"
   ]
  },
  {
   "cell_type": "markdown",
   "id": "fa1c8062",
   "metadata": {},
   "source": [
    "#### Displaying of the respective colours when mouse click is done"
   ]
  },
  {
   "cell_type": "code",
   "execution_count": 7,
   "id": "a501b19f",
   "metadata": {},
   "outputs": [],
   "source": [
    "cv2.namedWindow('image')\n",
    "cv2.setMouseCallback('image', draw_function)\n",
    "while True:\n",
    "\n",
    "    cv2.imshow(\"image\", img)\n",
    "    if clicked:\n",
    "\n",
    "        cv2.rectangle(img, (20, 20), (750, 60), (b, g, r), -1)\n",
    "\n",
    "        # Creation of text string to display( Color name and RGB values )\n",
    "        text = get_color_name(r, g, b) + ' R=' + str(r) + ' G=' + str(g) + ' B=' + str(b)\n",
    "\n",
    "        cv2.putText(img, text, (50, 50), 2, 0.8, (255, 255, 255), 2, cv2.LINE_AA)\n",
    "\n",
    "        # For very light colours we will display text in black colour\n",
    "        if r + g + b >= 600:\n",
    "            cv2.putText(img, text, (50, 50), 2, 0.8, (0, 0, 0), 2, cv2.LINE_AA)\n",
    "\n",
    "        clicked = False\n",
    "\n",
    "    # Break the loop when'ESC' key is pressed\n",
    "    if cv2.waitKey(20) & 0xFF == 27:\n",
    "        break\n",
    "\n",
    "cv2.destroyAllWindows()"
   ]
  }
 ],
 "metadata": {
  "kernelspec": {
   "display_name": "Python 3",
   "language": "python",
   "name": "python3"
  },
  "language_info": {
   "codemirror_mode": {
    "name": "ipython",
    "version": 3
   },
   "file_extension": ".py",
   "mimetype": "text/x-python",
   "name": "python",
   "nbconvert_exporter": "python",
   "pygments_lexer": "ipython3",
   "version": "3.8.10"
  }
 },
 "nbformat": 4,
 "nbformat_minor": 5
}
